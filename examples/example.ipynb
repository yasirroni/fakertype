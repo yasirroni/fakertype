{
 "cells": [
  {
   "cell_type": "code",
   "execution_count": 1,
   "metadata": {},
   "outputs": [],
   "source": [
    "from fakertype import FakerType"
   ]
  },
  {
   "cell_type": "code",
   "execution_count": 2,
   "metadata": {},
   "outputs": [
    {
     "data": {
      "text/plain": [
       "{'Christine Wilson': 'Johnburgh',\n",
       " 'Andrew Hodges': 'Contrerasmouth',\n",
       " 'Ashley Thompson': 'South Stevenbury',\n",
       " 'Kathy Zamora': 'North Christineburgh',\n",
       " 'Mary Barry': 'Kathleenton',\n",
       " 'Brandon Murray': 'East Tylermouth',\n",
       " 'Amber Lee': 'West Dianastad',\n",
       " 'Lisa Price': 'North Shannonchester',\n",
       " 'Derrick Stanton': 'North Davidtown',\n",
       " 'James Ruiz': 'Joelfort',\n",
       " 'Steven Crawford': 'Lake Eric',\n",
       " 'Breanna Robinson': 'Lake Hunter',\n",
       " 'Christian Perez': 'Lake Bethfurt',\n",
       " 'Ronald Cook': 'Stevenburgh',\n",
       " 'Christian Hebert': 'Port Jennifermouth',\n",
       " 'Carl Jackson': 'Davidmouth',\n",
       " 'Alisha Strickland': 'Lake Rachel',\n",
       " 'Mark Bell': 'Villaville',\n",
       " 'Charles Nelson': 'Russellbury',\n",
       " 'Michael Hammond': 'East Rachelburgh',\n",
       " 'Gabriel Griffith': 'Stevenmouth',\n",
       " 'Allison Benson': 'Torrestown',\n",
       " 'Barbara Perry': 'West Seth',\n",
       " 'Susan Gutierrez': 'Richardmouth',\n",
       " 'Scott Riley': 'East Kristina',\n",
       " 'Joseph Cooper': 'South Toddbury',\n",
       " 'Erin Reeves': 'Port Tina',\n",
       " 'Jacob Wood': 'Robertberg',\n",
       " 'Gary Pineda': 'Janetchester',\n",
       " 'Maria Mathis': 'South Sandra',\n",
       " 'Lynn Casey': 'North Davidview',\n",
       " 'Samuel Martinez': 'Mooreborough',\n",
       " 'Larry Shaw': 'Troystad',\n",
       " 'Ashley Fisher': 'Edwinhaven',\n",
       " 'Kara Lucas': 'Hoffmantown',\n",
       " 'Natalie Cox': 'Cynthiaview',\n",
       " 'Laurie Espinoza': 'Bartonfurt',\n",
       " 'Brittany Carter': 'Carterland',\n",
       " 'Alexander Cunningham': 'Port Larryhaven',\n",
       " 'Kevin Garrison': 'North Lori',\n",
       " 'Molly Harris': 'Nashtown',\n",
       " 'Ernest Hall': 'Millerchester',\n",
       " 'Jeremy Klein': 'Kennethfort',\n",
       " 'Jessica Rogers': 'New Lindsey',\n",
       " 'Michael Stanley': 'Gonzalesshire',\n",
       " 'Nicole Johnston': 'Lake Catherine',\n",
       " 'Victoria Best': 'Ramostown',\n",
       " 'Kevin Bowman': 'South Randychester',\n",
       " 'Christina Conway': 'Cynthiachester',\n",
       " 'James Fletcher': 'Port Sarahaven',\n",
       " 'Philip Byrd': 'Wilsonton',\n",
       " 'Phyllis Nichols': 'Thomasville',\n",
       " 'Ruben Melton': 'Suzanneport',\n",
       " 'Anthony Rowe': 'Port Carolyn'}"
      ]
     },
     "execution_count": 2,
     "metadata": {},
     "output_type": "execute_result"
    }
   ],
   "source": [
    "ft = FakerType()\n",
    "ft.fake_dict()"
   ]
  },
  {
   "cell_type": "code",
   "execution_count": null,
   "metadata": {},
   "outputs": [],
   "source": []
  }
 ],
 "metadata": {
  "interpreter": {
   "hash": "14b7b1db339229c369b9e4a344f84f846b75f96782989b11e89d4cd32fb31880"
  },
  "kernelspec": {
   "display_name": "Python 3.7.4 64-bit",
   "language": "python",
   "name": "python3"
  },
  "language_info": {
   "codemirror_mode": {
    "name": "ipython",
    "version": 3
   },
   "file_extension": ".py",
   "mimetype": "text/x-python",
   "name": "python",
   "nbconvert_exporter": "python",
   "pygments_lexer": "ipython3",
   "version": "3.7.4"
  },
  "orig_nbformat": 4
 },
 "nbformat": 4,
 "nbformat_minor": 2
}
