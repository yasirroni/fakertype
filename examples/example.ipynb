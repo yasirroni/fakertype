{
 "cells": [
  {
   "cell_type": "code",
   "execution_count": 4,
   "metadata": {},
   "outputs": [],
   "source": [
    "from fakertype import FakerType"
   ]
  },
  {
   "cell_type": "code",
   "execution_count": 5,
   "metadata": {},
   "outputs": [],
   "source": [
    "ft = FakerType()"
   ]
  },
  {
   "cell_type": "code",
   "execution_count": 6,
   "metadata": {},
   "outputs": [
    {
     "data": {
      "text/plain": [
       "{'Marilyn Patterson': 'South Stanley',\n",
       " 'Anthony Owens': 'East Stephanie',\n",
       " 'Manuel Wagner': 'Lopezfort',\n",
       " 'Kimberly Palmer': 'North Michelleville',\n",
       " 'Jeffery Nelson': 'North Marybury',\n",
       " 'Kevin Graves': 'North Kennethport',\n",
       " 'Antonio Scott': 'Heatherfort',\n",
       " 'Charles Hunter': 'East Paul',\n",
       " 'Mark Vargas': 'South Maryton',\n",
       " 'Jerry Glenn': 'Priceborough',\n",
       " 'Taylor Manning': 'New Elizabeth',\n",
       " 'Gregory Camacho': 'Coffeyton',\n",
       " 'Keith Wilson': 'New Geoffrey',\n",
       " 'Tonya Zhang': 'South Brittany',\n",
       " 'Jeffrey Allison': 'Port Ryan',\n",
       " 'Jasmine Miles': 'South Bradchester',\n",
       " 'Laura Taylor': 'Lake Adamland',\n",
       " 'Misty Montgomery': 'Lake Elizabethchester',\n",
       " 'Zachary Martinez': 'Darrenbury',\n",
       " 'Emily Burton': 'East William',\n",
       " 'Jeffrey Tyler': 'Port Caitlin',\n",
       " 'Jacob Smith': 'East Colinville',\n",
       " 'Jennifer Bailey': 'Port Susanbury',\n",
       " 'Jason Martinez': 'Hillchester',\n",
       " 'Dr. Rebecca Reed': 'Lake Darleneborough',\n",
       " 'Tara Howard': 'North Angelfurt',\n",
       " 'Charles Miranda': 'Morenoton',\n",
       " 'Dr. Jessica Arnold': 'Griffithshire',\n",
       " 'Kendra Payne': 'New Heatherburgh',\n",
       " 'Mark Fisher': 'Kimburgh',\n",
       " 'Patrick Sexton MD': 'South Erik',\n",
       " 'Cathy Miller': 'Victoriaburgh',\n",
       " 'Amy Silva': 'Port Jessicaport',\n",
       " 'Matthew Buck': 'South Brianstad',\n",
       " 'Jeffery Rowe': 'Jamieborough',\n",
       " 'Sheila White': 'Cynthiafort',\n",
       " 'Mackenzie Brown': 'East Johnville',\n",
       " 'Stacey Thomas': 'West Alexa',\n",
       " 'Bradley Freeman MD': 'Josephshire',\n",
       " 'Christopher Alvarez MD': 'Howardstad',\n",
       " 'Patricia Martinez': 'New Scott',\n",
       " 'Judith Ramos': 'Lindamouth',\n",
       " 'Timothy Davis': 'Maryfort',\n",
       " 'Richard Cooper': 'Ralphberg',\n",
       " 'Elizabeth Nelson': 'West Mary',\n",
       " 'Timothy Shannon': 'New Cheyennemouth',\n",
       " 'Juan Pearson': 'East Daniel',\n",
       " 'Lindsey Hines': 'Andrewview',\n",
       " 'Alicia Dunn': 'East Bryanstad',\n",
       " 'Anita Nelson': 'Brownburgh',\n",
       " 'Michael Davis': 'Julietown',\n",
       " 'Miguel Wolfe': 'Marthaview',\n",
       " 'Molly Cobb': 'New Jessicaport',\n",
       " 'Tonya White': 'East Jeffreyborough',\n",
       " 'Rhonda Vazquez': 'West Arthur',\n",
       " 'Steven Roberts': 'New Amandaton',\n",
       " 'David Gonzalez': 'Churchmouth',\n",
       " 'Wayne Phillips': 'Kimland',\n",
       " 'William Jackson': 'North Paulport',\n",
       " 'Christian Johnson': 'Aliciaview',\n",
       " 'Stephanie Garcia': 'North Albert',\n",
       " 'John Mendoza II': 'Danielletown',\n",
       " 'Kenneth Francis': 'West Josephmouth',\n",
       " 'Erica Bartlett': 'East Raymondtown',\n",
       " 'Scott Smith': 'Lake Laurenburgh',\n",
       " 'Bobby Vasquez': 'North Jill',\n",
       " 'Tammy Williams': 'West Julie',\n",
       " 'Emily Porter': 'New Amy'}"
      ]
     },
     "execution_count": 6,
     "metadata": {},
     "output_type": "execute_result"
    }
   ],
   "source": [
    "ft.fake_dict()"
   ]
  },
  {
   "cell_type": "code",
   "execution_count": 7,
   "metadata": {},
   "outputs": [
    {
     "data": {
      "text/plain": [
       "['Adamsview',\n",
       " 'Josephborough',\n",
       " 'West Jessicaton',\n",
       " 'New Jessicashire',\n",
       " 'West Christopherton',\n",
       " 'Lake Melissaview',\n",
       " 'Port Robin',\n",
       " 'North Tinaberg',\n",
       " 'Greenland',\n",
       " 'Susanburgh',\n",
       " 'East Maryberg',\n",
       " 'East William',\n",
       " 'South Seanbury',\n",
       " 'West Jacob',\n",
       " 'Kennethberg',\n",
       " 'Desireemouth',\n",
       " 'East Julie',\n",
       " 'Port Larryberg',\n",
       " 'Lake Heather',\n",
       " 'North Haley',\n",
       " 'Pattonmouth',\n",
       " 'Mossmouth',\n",
       " 'Lake Daniellefort',\n",
       " 'South Davidchester',\n",
       " 'Maryhaven',\n",
       " 'Prestonhaven',\n",
       " 'New Tyler',\n",
       " 'Lake Calebbury',\n",
       " 'West Katherine',\n",
       " 'Stephaniebury',\n",
       " 'South David',\n",
       " 'Watsonchester',\n",
       " 'East Latasha',\n",
       " 'Lake Jacquelinemouth',\n",
       " 'Ianfort',\n",
       " 'Samanthatown',\n",
       " 'Lisaburgh',\n",
       " 'Saraland',\n",
       " 'Ambershire',\n",
       " 'North Leonardmouth',\n",
       " 'East Paul',\n",
       " 'New Shellychester',\n",
       " 'South Nicholas',\n",
       " 'New Andrew',\n",
       " 'Powellside',\n",
       " 'Ramirezside',\n",
       " 'Lake Aliciaborough',\n",
       " 'North Joshuafort',\n",
       " 'East Perry',\n",
       " 'Port Shelleystad',\n",
       " 'West Alexis',\n",
       " 'West Johnhaven',\n",
       " 'Amandaville',\n",
       " 'Cassidyhaven',\n",
       " 'Vincentshire',\n",
       " 'Campbellton',\n",
       " 'Stewartfort']"
      ]
     },
     "execution_count": 7,
     "metadata": {},
     "output_type": "execute_result"
    }
   ],
   "source": [
    "ft.fake_list()"
   ]
  },
  {
   "cell_type": "code",
   "execution_count": null,
   "metadata": {},
   "outputs": [],
   "source": []
  }
 ],
 "metadata": {
  "interpreter": {
   "hash": "14b7b1db339229c369b9e4a344f84f846b75f96782989b11e89d4cd32fb31880"
  },
  "kernelspec": {
   "display_name": "Python 3.7.4 64-bit",
   "language": "python",
   "name": "python3"
  },
  "language_info": {
   "codemirror_mode": {
    "name": "ipython",
    "version": 3
   },
   "file_extension": ".py",
   "mimetype": "text/x-python",
   "name": "python",
   "nbconvert_exporter": "python",
   "pygments_lexer": "ipython3",
   "version": "3.7.4"
  },
  "orig_nbformat": 4
 },
 "nbformat": 4,
 "nbformat_minor": 2
}
